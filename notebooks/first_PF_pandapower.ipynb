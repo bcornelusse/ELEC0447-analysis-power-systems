{
 "cells": [
  {
   "cell_type": "markdown",
   "metadata": {},
   "source": [
    "# Three-bus power flow example\n",
    "\n",
    "Example 5.4 given at page 89 of Ned Mohan's Book. Based on network shown at page 80 and gradually described in the other examples.\n",
    "\n",
    "Buses: \n",
    "\n",
    " - Bus 1 is the slack, with voltage at 1 pu\n",
    " - Bus 2 is a PV bus, with voltage at 1.05 pu and drawing 2 pu of active power\n",
    " - Bus 3 is a PQ bus, consumed P = 5 pu and Q = 1 pu.\n",
    "\n",
    "Lines: \n",
    "\n",
    " - Shunt susceptances are ignored (4.5e-6 S/km)\n",
    " - X = 0.376 Ohm/km (at 6h Hz)\n",
    " - R = 0.037 Ohm/km\n",
    " - 1 to 2: 150 km\n",
    " - 2 to 3: 150 km\n",
    " - 3 to 1: 200 km\n",
    " \n",
    " \n",
    "Voltage base (3-phase): 345 kV\n",
    "\n",
    "Power base (3-phase): 100 MVA"
   ]
  },
  {
   "cell_type": "code",
   "execution_count": 1,
   "metadata": {},
   "outputs": [
    {
     "data": {
      "text/plain": [
       "np.int64(2)"
      ]
     },
     "execution_count": 1,
     "metadata": {},
     "output_type": "execute_result"
    }
   ],
   "source": [
    "import pandapower as pp\n",
    "#create empty net\n",
    "net = pp.create_empty_network() \n",
    "\n",
    "# Per unit (3-phase values)\n",
    "Pbase = 100  # MVA\n",
    "Vbase = 345 # kV\n",
    "\n",
    "#create buses\n",
    "b1 = pp.create_bus(net, vn_kv=Vbase, name=\"Bus 1\")\n",
    "b2 = pp.create_bus(net, vn_kv=Vbase, name=\"Bus 2\")\n",
    "b3 = pp.create_bus(net, vn_kv=Vbase, name=\"Bus 3\")\n",
    "\n",
    "#create bus elements\n",
    "pp.create_ext_grid(net, bus=b1, vm_pu=1.00, name=\"Grid Connection\")\n",
    "pp.create_load(net, bus=b3, p_mw=5*Pbase, q_mvar=1*Pbase, name=\"Load\")\n",
    "pp.create_gen(net, bus=b2, p_mw=2*Pbase, vm_pu=1.05, name=\"PV\")\n",
    "\n",
    "#create branch elements. Here I use impedances since we do not have accurate info about line types.\n",
    "Zbase = Vbase**2 / Pbase\n",
    "X_km = 0.376\n",
    "R_km = 0.037\n",
    "l12_km = 150\n",
    "l23_km = 150\n",
    "l31_km = 200\n",
    "\n",
    "pp.create_impedance(net, from_bus=b1, to_bus=b2, rft_pu=l12_km*R_km/Zbase, rtf_pu=l12_km*R_km/Zbase, xft_pu=l12_km*X_km/Zbase, xtf_pu=l12_km*X_km/Zbase, sn_mva=Pbase, in_service=True)\n",
    "pp.create_impedance(net, from_bus=b2, to_bus=b3, rft_pu=l23_km*R_km/Zbase, rtf_pu=l23_km*R_km/Zbase, xft_pu=l23_km*X_km/Zbase, xtf_pu=l23_km*X_km/Zbase, sn_mva=Pbase, in_service=True)\n",
    "pp.create_impedance(net, from_bus=b3, to_bus=b1, rft_pu=l31_km*R_km/Zbase, rtf_pu=l31_km*R_km/Zbase, xft_pu=l31_km*X_km/Zbase, xtf_pu=l31_km*X_km/Zbase, sn_mva=Pbase, in_service=True)"
   ]
  },
  {
   "cell_type": "markdown",
   "metadata": {},
   "source": [
    "## Run the power flow and analyze the results"
   ]
  },
  {
   "cell_type": "code",
   "execution_count": 2,
   "metadata": {
    "collapsed": true
   },
   "outputs": [
    {
     "name": "stderr",
     "output_type": "stream",
     "text": [
      "numba cannot be imported and numba functions are disabled.\n",
      "Probably the execution is slow.\n",
      "Please install numba to gain a massive speedup.\n",
      "(or if you prefer slow execution, set the flag numba=False to avoid this warning!)\n"
     ]
    }
   ],
   "source": [
    "pp.runpp(net)"
   ]
  },
  {
   "cell_type": "code",
   "execution_count": 3,
   "metadata": {},
   "outputs": [
    {
     "data": {
      "application/vnd.microsoft.datawrangler.viewer.v0+json": {
       "columns": [
        {
         "name": "index",
         "rawType": "int64",
         "type": "integer"
        },
        {
         "name": "vm_pu",
         "rawType": "float64",
         "type": "float"
        },
        {
         "name": "va_degree",
         "rawType": "float64",
         "type": "float"
        },
        {
         "name": "p_mw",
         "rawType": "float64",
         "type": "float"
        },
        {
         "name": "q_mvar",
         "rawType": "float64",
         "type": "float"
        }
       ],
       "ref": "4859504e-e1e7-4bd1-baad-26bc8eabb1ce",
       "rows": [
        [
         "0",
         "1.0",
         "0.0",
         "-308.37705341741804",
         "81.61097806821726"
        ],
        [
         "1",
         "1.05",
         "-2.0664814078530718",
         "-200.0",
         "-266.73995327949524"
        ],
        [
         "2",
         "0.9781141822858099",
         "-8.787327205207259",
         "500.0",
         "100.0"
        ]
       ],
       "shape": {
        "columns": 4,
        "rows": 3
       }
      },
      "text/html": [
       "<div>\n",
       "<style scoped>\n",
       "    .dataframe tbody tr th:only-of-type {\n",
       "        vertical-align: middle;\n",
       "    }\n",
       "\n",
       "    .dataframe tbody tr th {\n",
       "        vertical-align: top;\n",
       "    }\n",
       "\n",
       "    .dataframe thead th {\n",
       "        text-align: right;\n",
       "    }\n",
       "</style>\n",
       "<table border=\"1\" class=\"dataframe\">\n",
       "  <thead>\n",
       "    <tr style=\"text-align: right;\">\n",
       "      <th></th>\n",
       "      <th>vm_pu</th>\n",
       "      <th>va_degree</th>\n",
       "      <th>p_mw</th>\n",
       "      <th>q_mvar</th>\n",
       "    </tr>\n",
       "  </thead>\n",
       "  <tbody>\n",
       "    <tr>\n",
       "      <th>0</th>\n",
       "      <td>1.000000</td>\n",
       "      <td>0.000000</td>\n",
       "      <td>-308.377053</td>\n",
       "      <td>81.610978</td>\n",
       "    </tr>\n",
       "    <tr>\n",
       "      <th>1</th>\n",
       "      <td>1.050000</td>\n",
       "      <td>-2.066481</td>\n",
       "      <td>-200.000000</td>\n",
       "      <td>-266.739953</td>\n",
       "    </tr>\n",
       "    <tr>\n",
       "      <th>2</th>\n",
       "      <td>0.978114</td>\n",
       "      <td>-8.787327</td>\n",
       "      <td>500.000000</td>\n",
       "      <td>100.000000</td>\n",
       "    </tr>\n",
       "  </tbody>\n",
       "</table>\n",
       "</div>"
      ],
      "text/plain": [
       "      vm_pu  va_degree        p_mw      q_mvar\n",
       "0  1.000000   0.000000 -308.377053   81.610978\n",
       "1  1.050000  -2.066481 -200.000000 -266.739953\n",
       "2  0.978114  -8.787327  500.000000  100.000000"
      ]
     },
     "execution_count": 3,
     "metadata": {},
     "output_type": "execute_result"
    }
   ],
   "source": [
    "net.res_bus"
   ]
  },
  {
   "cell_type": "code",
   "execution_count": 4,
   "metadata": {},
   "outputs": [
    {
     "data": {
      "application/vnd.microsoft.datawrangler.viewer.v0+json": {
       "columns": [
        {
         "name": "index",
         "rawType": "int64",
         "type": "integer"
        },
        {
         "name": "p_from_mw",
         "rawType": "float64",
         "type": "float"
        },
        {
         "name": "q_from_mvar",
         "rawType": "float64",
         "type": "float"
        },
        {
         "name": "p_to_mw",
         "rawType": "float64",
         "type": "float"
        },
        {
         "name": "q_to_mvar",
         "rawType": "float64",
         "type": "float"
        },
        {
         "name": "pl_mw",
         "rawType": "float64",
         "type": "float"
        },
        {
         "name": "ql_mvar",
         "rawType": "float64",
         "type": "float"
        },
        {
         "name": "i_from_ka",
         "rawType": "float64",
         "type": "float"
        },
        {
         "name": "i_to_ka",
         "rawType": "float64",
         "type": "float"
        }
       ],
       "ref": "807ffeb5-cdd1-40ae-9c42-4b7198d23503",
       "rows": [
        [
         "0",
         "68.99324047050013",
         "-110.8667622875596",
         "-68.19814818342057",
         "118.94661904274633",
         "0.7950922870795551",
         "8.07985675518674",
         "0.21852526287660226",
         "0.21852526287660226"
        ],
        [
         "1",
         "268.19814818342047",
         "147.79333429436636",
         "-264.2321314345446",
         "-107.49002895443837",
         "3.966016748875859",
         "40.30330533992799",
         "0.4880565583379556",
         "0.48805655833795564"
        ],
        [
         "2",
         "-235.76786856545542",
         "7.49002895443869",
         "239.38381294691789",
         "29.25578421934233",
         "3.6159443814624694",
         "36.74581317378102",
         "0.40358441191819533",
         "0.4035844119181954"
        ]
       ],
       "shape": {
        "columns": 8,
        "rows": 3
       }
      },
      "text/html": [
       "<div>\n",
       "<style scoped>\n",
       "    .dataframe tbody tr th:only-of-type {\n",
       "        vertical-align: middle;\n",
       "    }\n",
       "\n",
       "    .dataframe tbody tr th {\n",
       "        vertical-align: top;\n",
       "    }\n",
       "\n",
       "    .dataframe thead th {\n",
       "        text-align: right;\n",
       "    }\n",
       "</style>\n",
       "<table border=\"1\" class=\"dataframe\">\n",
       "  <thead>\n",
       "    <tr style=\"text-align: right;\">\n",
       "      <th></th>\n",
       "      <th>p_from_mw</th>\n",
       "      <th>q_from_mvar</th>\n",
       "      <th>p_to_mw</th>\n",
       "      <th>q_to_mvar</th>\n",
       "      <th>pl_mw</th>\n",
       "      <th>ql_mvar</th>\n",
       "      <th>i_from_ka</th>\n",
       "      <th>i_to_ka</th>\n",
       "    </tr>\n",
       "  </thead>\n",
       "  <tbody>\n",
       "    <tr>\n",
       "      <th>0</th>\n",
       "      <td>68.993240</td>\n",
       "      <td>-110.866762</td>\n",
       "      <td>-68.198148</td>\n",
       "      <td>118.946619</td>\n",
       "      <td>0.795092</td>\n",
       "      <td>8.079857</td>\n",
       "      <td>0.218525</td>\n",
       "      <td>0.218525</td>\n",
       "    </tr>\n",
       "    <tr>\n",
       "      <th>1</th>\n",
       "      <td>268.198148</td>\n",
       "      <td>147.793334</td>\n",
       "      <td>-264.232131</td>\n",
       "      <td>-107.490029</td>\n",
       "      <td>3.966017</td>\n",
       "      <td>40.303305</td>\n",
       "      <td>0.488057</td>\n",
       "      <td>0.488057</td>\n",
       "    </tr>\n",
       "    <tr>\n",
       "      <th>2</th>\n",
       "      <td>-235.767869</td>\n",
       "      <td>7.490029</td>\n",
       "      <td>239.383813</td>\n",
       "      <td>29.255784</td>\n",
       "      <td>3.615944</td>\n",
       "      <td>36.745813</td>\n",
       "      <td>0.403584</td>\n",
       "      <td>0.403584</td>\n",
       "    </tr>\n",
       "  </tbody>\n",
       "</table>\n",
       "</div>"
      ],
      "text/plain": [
       "    p_from_mw  q_from_mvar     p_to_mw   q_to_mvar     pl_mw    ql_mvar  \\\n",
       "0   68.993240  -110.866762  -68.198148  118.946619  0.795092   8.079857   \n",
       "1  268.198148   147.793334 -264.232131 -107.490029  3.966017  40.303305   \n",
       "2 -235.767869     7.490029  239.383813   29.255784  3.615944  36.745813   \n",
       "\n",
       "   i_from_ka   i_to_ka  \n",
       "0   0.218525  0.218525  \n",
       "1   0.488057  0.488057  \n",
       "2   0.403584  0.403584  "
      ]
     },
     "execution_count": 4,
     "metadata": {},
     "output_type": "execute_result"
    }
   ],
   "source": [
    "net.res_impedance"
   ]
  }
 ],
 "metadata": {
  "kernelspec": {
   "display_name": ".venv",
   "language": "python",
   "name": "python3"
  },
  "language_info": {
   "codemirror_mode": {
    "name": "ipython",
    "version": 3
   },
   "file_extension": ".py",
   "mimetype": "text/x-python",
   "name": "python",
   "nbconvert_exporter": "python",
   "pygments_lexer": "ipython3",
   "version": "3.13.0"
  }
 },
 "nbformat": 4,
 "nbformat_minor": 2
}
