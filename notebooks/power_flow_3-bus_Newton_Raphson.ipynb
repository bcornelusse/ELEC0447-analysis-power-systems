{
 "cells": [
  {
   "attachments": {
    "PF_net_1.png": {
     "image/png": "[encoded data removed]"
    }
   },
   "cell_type": "markdown",
   "id": "f9e6e24e",
   "metadata": {},
   "source": [
    "# Introduction \n",
    "This notebook expands in **full detail an implementation of the Newton-Raphson algorithm** to one specific instance of the power flow problem\n",
    "with 3 buses (cf. details in the lecture slides).\n",
    "\n",
    "![PF_net_1.png](attachment:PF_net_1.png)\n",
    "\n",
    "Example 5.4 given at page 89 of Ned Mohan's Book. Based on network shown at page 80 and gradually described in the other examples.\n",
    "\n",
    "Buses:\n",
    " - Bus 1 is the slack, with voltage at 1 pu\n",
    " - Bus 2 is a PV bus, with voltage at 1.05 pu and drawing 2 pu of active power\n",
    " - Bus 3 is a PQ bus, consumed P = 5 pu and Q = 1 pu.\n",
    "\n",
    "Lines:\n",
    " - 1 to 2: 150 km\n",
    " - 2 to 3: 150 km\n",
    " - 3 to 1: 200 km\n",
    " - X = 0.376 Ohm/km (at 6h Hz)\n",
    " - R = 0.037 Ohm/km\n",
    " - Shunt susceptances are ignored (4.5e-6 S/km)\n",
    "\n",
    "\n",
    "Voltage base (3-phase): 345 kV\n",
    "Power base (3-phase): 100 MVA\n",
    "\n",
    "In a real solver such as PandaPower, a modelling layer and some data structures allow to decouple the modelling part from the solution process, and make it much more flexible."
   ]
  },
  {
   "cell_type": "markdown",
   "id": "fe7cf8b4",
   "metadata": {},
   "source": [
    "# Imports"
   ]
  },
  {
   "cell_type": "code",
   "execution_count": 1,
   "id": "5d975738",
   "metadata": {},
   "outputs": [],
   "source": [
    "from math import sin, cos, pi\n",
    "import numpy as np\n",
    "import pandas as pd"
   ]
  },
  {
   "cell_type": "markdown",
   "id": "a417a835",
   "metadata": {},
   "source": [
    "# Per unit  (3-phase values)"
   ]
  },
  {
   "cell_type": "code",
   "execution_count": 2,
   "id": "a5256a03",
   "metadata": {},
   "outputs": [],
   "source": [
    "# Per unit \n",
    "Pbase = 100  # MVA\n",
    "Vbase = 345  # kV\n",
    "\n",
    "Zbase  = Vbase**2/Pbase"
   ]
  },
  {
   "cell_type": "markdown",
   "id": "8a6545f9",
   "metadata": {},
   "source": [
    "# Line Data"
   ]
  },
  {
   "cell_type": "code",
   "execution_count": 3,
   "id": "afadf076",
   "metadata": {},
   "outputs": [],
   "source": [
    "X_km = 0.376    # ohm/km\n",
    "R_km = 0.037    # ohm/km\n",
    "l01_km = 150    # km\n",
    "l12_km = 150    # km\n",
    "l02_km = 200    # km"
   ]
  },
  {
   "cell_type": "markdown",
   "id": "cd68d440",
   "metadata": {},
   "source": [
    "# What are the values we know, and those we don't?"
   ]
  },
  {
   "cell_type": "code",
   "execution_count": 4,
   "id": "f21a57ce",
   "metadata": {},
   "outputs": [],
   "source": [
    "# Bus index      [ 1    ,     2 ,     3 ]\n",
    "P = np.array(    [np.nan,     -2.,    5.]) # p.u.\n",
    "Q = np.array(    [np.nan, np.nan,     1.]) # p.u.\n",
    "Vmag = np.array( [     1,   1.05, np.nan]) # p.u.\n",
    "Theta = np.array([     0, np.nan, np.nan]) # p.u."
   ]
  },
  {
   "cell_type": "markdown",
   "id": "4058b3a0",
   "metadata": {},
   "source": [
    "# Compute the line admittances"
   ]
  },
  {
   "cell_type": "code",
   "execution_count": 5,
   "id": "fbad91ec",
   "metadata": {},
   "outputs": [],
   "source": [
    "Z_01 = (R_km+1j*X_km)*l01_km / Zbase # p.u.\n",
    "Z_02 = (R_km+1j*X_km)*l02_km / Zbase # p.u.\n",
    "Z_12 = (R_km+1j*X_km)*l12_km / Zbase # p.u.\n",
    "Y_01 = 1./Z_01 # p.u.\n",
    "Y_02 = 1./Z_02 # p.u.\n",
    "Y_12 = 1./Z_12 # p.u."
   ]
  },
  {
   "cell_type": "markdown",
   "id": "41a9d6b0",
   "metadata": {},
   "source": [
    "# Create the admittance matrix (using the inspection rule), and separate its real and imaginary parts"
   ]
  },
  {
   "cell_type": "code",
   "execution_count": 6,
   "id": "070d4971",
   "metadata": {},
   "outputs": [],
   "source": [
    "Y = np.array([[Y_01 + Y_02,     -Y_01,     -Y_02], \n",
    "              [-Y_01      , Y_01+Y_12,     -Y_12], \n",
    "              [-Y_02      ,     -Y_12, Y_02+Y_12]])\n",
    "\n",
    "G = Y.real  # Conductance matrix\n",
    "B = Y.imag  # Susceptance matrix"
   ]
  },
  {
   "cell_type": "markdown",
   "id": "08dd31cb",
   "metadata": {},
   "source": [
    "# Start of Newton-Raphson algorithm"
   ]
  },
  {
   "cell_type": "code",
   "execution_count": 7,
   "id": "f306c986",
   "metadata": {},
   "outputs": [
    {
     "name": "stdout",
     "output_type": "stream",
     "text": [
      "[1.   1.05  nan]\n",
      "[ 0. nan nan]\n",
      "[1.   1.05 1.  ]\n",
      "[0. 0. 0.]\n"
     ]
    }
   ],
   "source": [
    "# Initialize V -> replace nans by 1 pu.\n",
    "print(Vmag)\n",
    "print(Theta)\n",
    "\n",
    "Vmag = np.array([1. if np.isnan(x) else x for x in Vmag])\n",
    "# Initialize Theta -> replace nans by 0 rad.\n",
    "Theta = np.array([0. if np.isnan(x) else x for x in Theta])\n",
    "\n",
    "print(Vmag)\n",
    "print(Theta)"
   ]
  },
  {
   "cell_type": "markdown",
   "id": "7723064d",
   "metadata": {},
   "source": [
    "## Encode the power flow equations at buses where P or Q is known"
   ]
  },
  {
   "cell_type": "code",
   "execution_count": 8,
   "id": "1ddc924f",
   "metadata": {},
   "outputs": [],
   "source": [
    "def compute_power_error():\n",
    "    \n",
    "    # Step 1: apply the power flow equations to (re)estimate P and Q injected as a function of Vmag and Theta \n",
    "    # P1_est(Vmag, Theta)\n",
    "    P_1_est =-(G[1][1]*Vmag[1]**2 \\\n",
    "           + Vmag[1]*(Vmag[0]*(G[1][0]*cos(Theta[1] - Theta[0]) + B[1][0]*sin(Theta[1] - Theta[0])) \n",
    "                      + Vmag[2]*(G[1][2]*cos(Theta[1] - Theta[2]) + B[1][2]*sin(Theta[1] - Theta[2]))))\n",
    "    \n",
    "    # P2_est(Vmag, Theta)\n",
    "    P_2_est = -(G[2][2]*Vmag[2]**2 \\\n",
    "              + Vmag[2]*(Vmag[0]*(G[2][0]*cos(Theta[2] - Theta[0]) + B[2][0]*sin(Theta[2] - Theta[0])) \n",
    "                         + Vmag[1]*(G[2][1]*cos(Theta[2] - Theta[1]) + B[2][1]*sin(Theta[2] - Theta[1]))))\n",
    "    \n",
    "    # Q2_est(Vmag, Theta)\n",
    "    Q_2_est = -(-B[2][2]*Vmag[2]**2 \\\n",
    "              + Vmag[2]*(Vmag[0]*(G[2][0]*sin(Theta[2] - Theta[0]) - B[2][0]*cos(Theta[2] - Theta[0])) \n",
    "                         + Vmag[1]*(G[2][1]*sin(Theta[2] - Theta[1]) - B[2][1]*cos(Theta[2] - Theta[1]))))\n",
    "\n",
    "    # Step 2: Compute the error between estimated and known powers\n",
    "    power_error = [P[1] - P_1_est, P[2] - P_2_est, Q[2] - Q_2_est]\n",
    "    \n",
    "    return power_error # the error on the injected powers will allow us to update Vmag and Theta "
   ]
  },
  {
   "cell_type": "markdown",
   "id": "c7a19fe5",
   "metadata": {},
   "source": [
    "##  To update Vmag and Theta, we need the compute the Jacobian\n",
    "\n",
    "The Jacobian gives us the sensitivity of the active and reactive powers injected (at the buses where we have measurements of P and Q) as a function of Vmag and Theta"
   ]
  },
  {
   "cell_type": "code",
   "execution_count": 9,
   "id": "97de249d",
   "metadata": {},
   "outputs": [],
   "source": [
    "def compute_J():\n",
    "    ## Jacobian ##\n",
    "    J = np.array([\n",
    "        [0, 0, 0],\n",
    "        [0, 0, 0],\n",
    "        [0, 0, 0]\n",
    "    ],dtype=float)\n",
    "    \n",
    "    # J(0,0)=dP1/dtheta1\n",
    "    J[0][0] = Vmag[1]*(Vmag[0]*(-G[1][0]*sin(Theta[1]-Theta[0])+B[1][0]*cos(Theta[1]-Theta[0])) +\n",
    "                        Vmag[2]*(-G[1][2]*sin(Theta[1]-Theta[2])+B[1][2]*cos(Theta[1]-Theta[2])))\n",
    "    # J(0,1)=dP1/dtheta2\n",
    "    J[0][1] = Vmag[1] * (Vmag[2]*(G[1][2]*sin(Theta[1]-Theta[2]) - B[1][2]*cos(Theta[1]-Theta[2])))\n",
    "\n",
    "    # J(0,2)=dP1/dV2\n",
    "    J[0][2] = Vmag[1]*((G[1][2]*cos(Theta[1]-Theta[2]) + B[1][2]*sin(Theta[1]-Theta[2])))\n",
    "\n",
    "    # J(1,0)=dP2/dtheta1\n",
    "    J[1][0] = Vmag[2] * (Vmag[1]*(G[2][1]*sin(Theta[2]-Theta[1]) - B[2][1]*cos(Theta[2]-Theta[1])))\n",
    "\n",
    "    # J(1,1)=dP2/dtheta2\n",
    "    J[1][1] = Vmag[2]*(Vmag[0]*(-G[2][0]*sin(Theta[2]-Theta[0])+B[2][0]*cos(Theta[2]-Theta[0])) +\n",
    "                        Vmag[1]*(-G[2][1]*sin(Theta[2]-Theta[1])+B[2][1]*cos(Theta[2]-Theta[1])))\n",
    "\n",
    "    # J(1,2)=dP2/dV2\n",
    "    J[1][2] = 2*G[2][2]*Vmag[2] + Vmag[0]*(G[2][0]*cos(Theta[2]-Theta[0])+B[2][0]*sin(\n",
    "        Theta[2]-Theta[0])) + Vmag[1]*(G[2][1]*cos(Theta[2]-Theta[1])+B[2][1]*sin(Theta[2]-Theta[1]))\n",
    "\n",
    "    # J(2,0)=dQ2/dtheta1\n",
    "    J[2][0] = Vmag[2] * (Vmag[1]*(-G[2][1]*cos(Theta[2]-Theta[1]) - B[2][1]*sin(Theta[2]-Theta[1])))\n",
    "\n",
    "    # J(2,1)=dQ2/dtheta2\n",
    "    J[2][1] = Vmag[2]*(Vmag[0]*(G[2][0]*cos(Theta[2]-Theta[0])+B[2][0]*sin(Theta[2]-Theta[0])) +\n",
    "                        Vmag[1]*(G[2][1]*cos(Theta[2]-Theta[1])+B[2][1]*sin(Theta[2]-Theta[1])))\n",
    "\n",
    "    # J(2,2)=dQ2/dV2\n",
    "    J[2][2] = - 2*B[2][2]*Vmag[2] + Vmag[0]*(G[2][0]*sin(Theta[2]-Theta[0])-B[2][0]*cos(\n",
    "        Theta[2]-Theta[0])) + Vmag[1]*(G[2][1]*sin(Theta[2]-Theta[1])-B[2][1]*cos(Theta[2]-Theta[1]))\n",
    "    \n",
    "    return -J"
   ]
  },
  {
   "cell_type": "markdown",
   "id": "33b9d872",
   "metadata": {},
   "source": [
    "## Given the power estimation error and the sensitivity, we can update Vmag and Theta"
   ]
  },
  {
   "cell_type": "code",
   "execution_count": 10,
   "id": "8bc255f3",
   "metadata": {},
   "outputs": [],
   "source": [
    "def solve_linear_system(J, power_errors):\n",
    "    # Solve Ax = b where A is J and b is the power_errors\n",
    "    deltas = np.linalg.solve(J, power_errors)\n",
    "    return deltas\n",
    "\n",
    "\"\"\"Update the unknown values (V and theta for PQ buses and theta for PV buses)\"\"\"\n",
    "\n",
    "def update_V(Theta_1, Theta_2, Vmag_2, deltas):\n",
    "    # Update the approximated solutions\n",
    "    Theta_1 += deltas[0]  # delta_Theta[1]\n",
    "    Theta_2 += deltas[1]  # delta_Theta[2]\n",
    "    Vmag_2 += deltas[2]  # delta_Vmag[2]\n",
    "    return Theta_1, Theta_2, Vmag_2"
   ]
  },
  {
   "cell_type": "markdown",
   "id": "419a5e0b",
   "metadata": {},
   "source": [
    "## Init the N-R loop"
   ]
  },
  {
   "cell_type": "code",
   "execution_count": 11,
   "id": "07d99574",
   "metadata": {},
   "outputs": [],
   "source": [
    "# Newton-Raphson algorithmic parameters\n",
    "N_ITER_MAX = 100\n",
    "TOLERANCE = 1e-4\n",
    "\n",
    "# Newton-Raphson iteration counter and flag\n",
    "n_iter = 0\n",
    "conv_flag = 0"
   ]
  },
  {
   "cell_type": "markdown",
   "id": "1b0d4e73",
   "metadata": {},
   "source": [
    "## The actual N-R loop\n"
   ]
  },
  {
   "cell_type": "code",
   "execution_count": 12,
   "id": "9943a78c",
   "metadata": {},
   "outputs": [
    {
     "name": "stdout",
     "output_type": "stream",
     "text": [
      "Iteration 0: P1_exact - P1_est = -1.78403814, P2_exact - P2_est = 4.89716102, Q2_exact - Q2_est = -0.04506638\n",
      "Iteration 1: P1_exact - P1_est = -0.02063201, P2_exact - P2_est = 0.10457299, Q2_exact - Q2_est = 0.31253471\n",
      "Iteration 2: P1_exact - P1_est = -0.00055264, P2_exact - P2_est = 0.00152721, Q2_exact - Q2_est = 0.00330269\n",
      "Iteration 3: P1_exact - P1_est = -0.00000010, P2_exact - P2_est = 0.00000024, Q2_exact - Q2_est = 0.00000041\n"
     ]
    }
   ],
   "source": [
    "while(conv_flag == 0):\n",
    "    power_errors = compute_power_error()\n",
    "    if max(map(abs, power_errors)) > TOLERANCE or n_iter > N_ITER_MAX:\n",
    "        conv_flag = 0\n",
    "    else:\n",
    "        conv_flag = 1\n",
    "    J = compute_J()\n",
    "\n",
    "    deltas = solve_linear_system(J, power_errors)\n",
    "    Theta[1], Theta[2], Vmag[2] = update_V(Theta[1], Theta[2], Vmag[2], deltas)\n",
    "    print(\"Iteration %d: P1_exact - P1_est = %.8f, P2_exact - P2_est = %.8f, Q2_exact - Q2_est = %.8f\" %\n",
    "            (n_iter, power_errors[0], power_errors[1], power_errors[2]))\n",
    "    n_iter += 1\n",
    "    if n_iter > N_ITER_MAX:\n",
    "        print('Maximum number of iteration reached. Calculated solution may not be correct.')"
   ]
  },
  {
   "cell_type": "code",
   "execution_count": 13,
   "id": "1da3c4ab",
   "metadata": {},
   "outputs": [
    {
     "name": "stdout",
     "output_type": "stream",
     "text": [
      "Solution (in pu): Theta[1] = -2.066 [deg], Theta[2] = -8.787 [deg], Vmag[2] = 0.978\n"
     ]
    }
   ],
   "source": [
    "print(\"Solution (in pu): Theta[1] = %.3f [deg], Theta[2] = %.3f [deg], Vmag[2] = %.3f\" %\n",
    "              (Theta[1]*180/pi, Theta[2]*180/pi, Vmag[2]))\n",
    "\n",
    "P[0] = -(G[0][0]*Vmag[0]**2 + Vmag[0]*(Vmag[1]*(G[0][1]*cos(Theta[0] - Theta[1]) + B[0][1]*sin(\n",
    "    Theta[0] - Theta[1])) + Vmag[2]*(G[0][2]*cos(Theta[0] - Theta[2]) + B[0][2]*sin(Theta[0] - Theta[2]))))\n",
    "Q[0] = -(-B[0][0]*Vmag[0]**2 + Vmag[0]*(Vmag[1]*(G[0][1]*sin(Theta[0] - Theta[1]) - B[0][1]*cos(\n",
    "    Theta[0] - Theta[1])) + Vmag[2]*(G[0][2]*sin(Theta[0] - Theta[2]) - B[0][2]*cos(Theta[0] - Theta[2]))))\n",
    "Q[1] = -(-B[1][1]*Vmag[1]**2 + Vmag[1]*(Vmag[0]*(G[1][0]*sin(Theta[1] - Theta[0]) - B[1][0]*cos(\n",
    "    Theta[1] - Theta[0])) + Vmag[2]*(G[1][2]*sin(Theta[1] - Theta[2]) - B[1][2]*cos(Theta[1] - Theta[2]))))\n",
    "\n",
    "solution_array = np.transpose([Vmag, Theta*180/pi, P*Pbase, Q*Pbase])\n",
    "\n",
    "# [V3_mag, V3_phase*180/pi, -P3*Pbase, -Q3*Pbase]]\n",
    "col_names = [\"vm_pu\", \"va_degree\", \"p_mw\", \"q_mvar\"]\n",
    "res_bus = pd.DataFrame(solution_array, columns=col_names)"
   ]
  },
  {
   "cell_type": "code",
   "execution_count": 14,
   "id": "7d1a1548",
   "metadata": {},
   "outputs": [
    {
     "data": {
      "text/html": [
       "<table border=\"1\" class=\"dataframe\">\n",
       "  <thead>\n",
       "    <tr style=\"text-align: right;\">\n",
       "      <th></th>\n",
       "      <th>vm_pu</th>\n",
       "      <th>va_degree</th>\n",
       "      <th>p_mw</th>\n",
       "      <th>q_mvar</th>\n",
       "    </tr>\n",
       "  </thead>\n",
       "  <tbody>\n",
       "    <tr>\n",
       "      <th>0</th>\n",
       "      <td>1.000000</td>\n",
       "      <td>0.000000</td>\n",
       "      <td>-308.377053</td>\n",
       "      <td>81.610978</td>\n",
       "    </tr>\n",
       "    <tr>\n",
       "      <th>1</th>\n",
       "      <td>1.050000</td>\n",
       "      <td>-2.066481</td>\n",
       "      <td>-200.000000</td>\n",
       "      <td>-266.739953</td>\n",
       "    </tr>\n",
       "    <tr>\n",
       "      <th>2</th>\n",
       "      <td>0.978114</td>\n",
       "      <td>-8.787327</td>\n",
       "      <td>500.000000</td>\n",
       "      <td>100.000000</td>\n",
       "    </tr>\n",
       "  </tbody>\n",
       "</table>"
      ],
      "text/plain": [
       "<IPython.core.display.HTML object>"
      ]
     },
     "metadata": {},
     "output_type": "display_data"
    }
   ],
   "source": [
    "from IPython.display import display, HTML\n",
    "\n",
    "display(HTML(res_bus.to_html()))"
   ]
  }
 ],
 "metadata": {
  "kernelspec": {
   "display_name": ".venv",
   "language": "python",
   "name": "python3"
  },
  "language_info": {
   "codemirror_mode": {
    "name": "ipython",
    "version": 3
   },
   "file_extension": ".py",
   "mimetype": "text/x-python",
   "name": "python",
   "nbconvert_exporter": "python",
   "pygments_lexer": "ipython3",
   "version": "3.13.0"
  }
 },
 "nbformat": 4,
 "nbformat_minor": 5
}
