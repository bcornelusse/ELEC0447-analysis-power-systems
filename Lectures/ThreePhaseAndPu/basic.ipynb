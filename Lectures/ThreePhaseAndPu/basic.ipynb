{
 "cells": [
  {
   "cell_type": "code",
   "execution_count": 2,
   "id": "60fb860e",
   "metadata": {},
   "outputs": [],
   "source": [
    "import numpy as np\n",
    "Vp = 400*(np.exp(1j*np.pi/6)) / (1-np.exp(-1j*2*np.pi/3))"
   ]
  },
  {
   "cell_type": "code",
   "execution_count": 3,
   "id": "aabd0114",
   "metadata": {},
   "outputs": [
    {
     "name": "stdout",
     "output_type": "stream",
     "text": [
      "(230.94010767585038-4.133898631412287e-14j)\n"
     ]
    }
   ],
   "source": [
    "print(Vp)"
   ]
  },
  {
   "cell_type": "code",
   "execution_count": 4,
   "id": "9046e41c",
   "metadata": {},
   "outputs": [
    {
     "data": {
      "text/plain": [
       "np.float64(230.94010767585033)"
      ]
     },
     "execution_count": 4,
     "metadata": {},
     "output_type": "execute_result"
    }
   ],
   "source": [
    "400/np.sqrt(3)"
   ]
  },
  {
   "cell_type": "code",
   "execution_count": null,
   "id": "bf3733bc",
   "metadata": {},
   "outputs": [],
   "source": []
  }
 ],
 "metadata": {
  "kernelspec": {
   "display_name": ".venv",
   "language": "python",
   "name": "python3"
  },
  "language_info": {
   "codemirror_mode": {
    "name": "ipython",
    "version": 3
   },
   "file_extension": ".py",
   "mimetype": "text/x-python",
   "name": "python",
   "nbconvert_exporter": "python",
   "pygments_lexer": "ipython3",
   "version": "3.13.0"
  }
 },
 "nbformat": 4,
 "nbformat_minor": 5
}
